{
 "cells": [
  {
   "cell_type": "code",
   "execution_count": 1,
   "id": "6bef4b8e-cfd8-4d8e-b41c-03e2fcafd9c6",
   "metadata": {},
   "outputs": [],
   "source": [
    "import pandas as pd\n",
    "import numpy as np\n",
    "import matplotlib.pyplot as plt\n",
    "import seaborn as sns\n",
    "import os\n",
    "from datetime import datetime, timedelta, timezone"
   ]
  },
  {
   "cell_type": "markdown",
   "id": "db7eccfd-c8df-4756-8f3e-ecc7a0de232a",
   "metadata": {},
   "source": [
    "# LAPD Arrests \n",
    "\n",
    "This notebook uploads, and cleans the data to look at the columns that pertain to the criminal activity, the arrests made, and the effects of the Safe Neighborhoods and Schools Act that Passed in 2014.\n",
    "\n",
    "We have the following datasets from [data.lacity.org](data.lacity.org)\n",
    "1. Arrests:\n",
    "   - [Arrest Data from 2010 - 2019](https://data.lacity.org/Public-Safety/Arrest-Data-from-2010-to-2019/yru6-6re4/about_data) \n",
    "   - [Arrest Data from 2020 - Present](https://data.lacity.org/Public-Safety/Arrest-Data-from-2020-to-Present/amvf-fr72/about_data)\n",
    "2. Crimes:\n",
    "   - [Crime Data from 2010 to 2019](https://data.lacity.org/Public-Safety/Crime-Data-from-2010-to-2019/63jg-8b9z/about_data)\n",
    "   - [Crime Data from 2020 to present](https://data.lacity.org/Public-Safety/Crime-Data-from-2020-to-Present/2nrs-mtv8/about_data)"
   ]
  },
  {
   "cell_type": "code",
   "execution_count": 2,
   "id": "dc3d17a8-6f47-4125-9eaa-0a65c52b649d",
   "metadata": {},
   "outputs": [
    {
     "data": {
      "text/plain": [
       "['.ipynb_checkpoints',\n",
       " 'analytic_env.yml',\n",
       " 'arrests_all.csv',\n",
       " 'Arrest_Data_from_2010_to_2019_20240611.csv',\n",
       " 'Arrest_Data_from_2020_to_Present_20240611.csv',\n",
       " 'crimes_all.csv',\n",
       " 'crimes_and_arrests.csv',\n",
       " 'Crime_Data_from_2010_to_2019_20240611.csv',\n",
       " 'Crime_Data_from_2020_to_Present_20240611.csv',\n",
       " 'LAPD 1.ipynb',\n",
       " 'LAPD 2.ipynb',\n",
       " 'mapping crime codes.ipynb',\n",
       " 'mean cleaning up after a robot.png',\n",
       " 'MO_CODES_Numerical_20191119 (1).pdf',\n",
       " 'Tracking Prop 47.ipynb',\n",
       " 'UCR-COMPSTAT062618 (1).pdf',\n",
       " 'ucr_handbook_2013 (1).pdf',\n",
       " 'Untitled.ipynb',\n",
       " 'Untitled1.ipynb']"
      ]
     },
     "execution_count": 2,
     "metadata": {},
     "output_type": "execute_result"
    }
   ],
   "source": [
    "os.listdir()"
   ]
  },
  {
   "cell_type": "markdown",
   "id": "fd922e82-42ca-4022-a480-453349f1361a",
   "metadata": {},
   "source": [
    "## Upload Raw Data:"
   ]
  },
  {
   "cell_type": "code",
   "execution_count": 3,
   "id": "d84e481a-c79a-43b1-8462-52d63d4a4c4a",
   "metadata": {},
   "outputs": [],
   "source": [
    "a_2020 = pd.read_csv('Arrest_Data_from_2020_to_Present_20240611.csv')\n",
    "a_2010 = pd.read_csv('Arrest_Data_from_2010_to_2019_20240611.csv')\n",
    "c_2020 = pd.read_csv('Crime_Data_from_2020_to_Present_20240611.csv')\n",
    "c_2010 = pd.read_csv('Crime_Data_from_2010_to_2019_20240611.csv')"
   ]
  },
  {
   "cell_type": "code",
   "execution_count": 70,
   "id": "5a760fed-2d14-450a-a607-629dd4ba2e19",
   "metadata": {},
   "outputs": [
    {
     "data": {
      "text/plain": [
       "((2122794, 28), (947775, 28))"
      ]
     },
     "execution_count": 70,
     "metadata": {},
     "output_type": "execute_result"
    }
   ],
   "source": [
    "c_2010.shape, c_2020.shape"
   ]
  },
  {
   "cell_type": "code",
   "execution_count": 71,
   "id": "656ee8c6-7901-47d5-882b-1b4adfe4fe81",
   "metadata": {},
   "outputs": [
    {
     "data": {
      "text/plain": [
       "((1320983, 25), (288101, 25))"
      ]
     },
     "execution_count": 71,
     "metadata": {},
     "output_type": "execute_result"
    }
   ],
   "source": [
    "a_2010.shape, a_2020.shape"
   ]
  },
  {
   "cell_type": "markdown",
   "id": "646a0b79-84a9-495a-b119-c64ffde648be",
   "metadata": {},
   "source": [
    "## One column in conflict for crimes:"
   ]
  },
  {
   "cell_type": "code",
   "execution_count": 7,
   "id": "86a3770c-4ae0-4ce2-b0ac-2a7fe101fce4",
   "metadata": {},
   "outputs": [
    {
     "data": {
      "text/plain": [
       "array([ True,  True,  True,  True, False,  True,  True,  True,  True,\n",
       "        True,  True,  True,  True,  True,  True,  True,  True,  True,\n",
       "        True,  True,  True,  True,  True,  True,  True,  True,  True,\n",
       "        True])"
      ]
     },
     "execution_count": 7,
     "metadata": {},
     "output_type": "execute_result"
    }
   ],
   "source": [
    "c_2010.columns == c_2020.columns"
   ]
  },
  {
   "cell_type": "code",
   "execution_count": 76,
   "id": "c3926f8e-5d37-482b-8103-1a084de99f6c",
   "metadata": {},
   "outputs": [
    {
     "data": {
      "text/plain": [
       "'AREA '"
      ]
     },
     "execution_count": 76,
     "metadata": {},
     "output_type": "execute_result"
    }
   ],
   "source": [
    "c_2010.columns[4] # 'AREA '"
   ]
  },
  {
   "cell_type": "code",
   "execution_count": 77,
   "id": "f9d1b341-442f-4807-afb4-10774f4397ed",
   "metadata": {},
   "outputs": [
    {
     "data": {
      "text/plain": [
       "'AREA'"
      ]
     },
     "execution_count": 77,
     "metadata": {},
     "output_type": "execute_result"
    }
   ],
   "source": [
    "c_2020.columns[4]"
   ]
  },
  {
   "cell_type": "code",
   "execution_count": 8,
   "id": "00b65695-96b2-4a21-bad0-44cd13c5b941",
   "metadata": {},
   "outputs": [
    {
     "data": {
      "text/plain": [
       "array([ True,  True,  True,  True,  True,  True,  True,  True,  True,\n",
       "        True,  True,  True,  True,  True,  True,  True,  True,  True,\n",
       "        True,  True,  True,  True,  True,  True,  True])"
      ]
     },
     "execution_count": 8,
     "metadata": {},
     "output_type": "execute_result"
    }
   ],
   "source": [
    "a_2020.columns == a_2010.columns"
   ]
  },
  {
   "cell_type": "markdown",
   "id": "41cfb8d6-bfb6-48fe-80d8-3939bf57b08a",
   "metadata": {},
   "source": [
    "## Merge out of the gate.\n",
    "\n",
    "Because the columns are identical, I'm tempted to merge the dataframes for arrests and crime, respectively to simplify things. Let's inspect the contents first."
   ]
  },
  {
   "cell_type": "code",
   "execution_count": 45,
   "id": "9862a7f7-27e5-41f9-bd4c-9b0d93720da9",
   "metadata": {},
   "outputs": [
    {
     "data": {
      "text/html": [
       "<div>\n",
       "<style scoped>\n",
       "    .dataframe tbody tr th:only-of-type {\n",
       "        vertical-align: middle;\n",
       "    }\n",
       "\n",
       "    .dataframe tbody tr th {\n",
       "        vertical-align: top;\n",
       "    }\n",
       "\n",
       "    .dataframe thead th {\n",
       "        text-align: right;\n",
       "    }\n",
       "</style>\n",
       "<table border=\"1\" class=\"dataframe\">\n",
       "  <thead>\n",
       "    <tr style=\"text-align: right;\">\n",
       "      <th></th>\n",
       "      <th>Report ID</th>\n",
       "      <th>Report Type</th>\n",
       "      <th>Arrest Date</th>\n",
       "      <th>Time</th>\n",
       "      <th>Area ID</th>\n",
       "      <th>Area Name</th>\n",
       "      <th>Reporting District</th>\n",
       "      <th>Age</th>\n",
       "      <th>Sex Code</th>\n",
       "      <th>Descent Code</th>\n",
       "      <th>...</th>\n",
       "      <th>Disposition Description</th>\n",
       "      <th>Address</th>\n",
       "      <th>Cross Street</th>\n",
       "      <th>LAT</th>\n",
       "      <th>LON</th>\n",
       "      <th>Location</th>\n",
       "      <th>Booking Date</th>\n",
       "      <th>Booking Time</th>\n",
       "      <th>Booking Location</th>\n",
       "      <th>Booking Location Code</th>\n",
       "    </tr>\n",
       "  </thead>\n",
       "  <tbody>\n",
       "    <tr>\n",
       "      <th>136241</th>\n",
       "      <td>6060088</td>\n",
       "      <td>BOOKING</td>\n",
       "      <td>11/27/2020 12:00:00 AM</td>\n",
       "      <td>1720.0</td>\n",
       "      <td>4</td>\n",
       "      <td>Hollenbeck</td>\n",
       "      <td>423</td>\n",
       "      <td>33</td>\n",
       "      <td>M</td>\n",
       "      <td>H</td>\n",
       "      <td>...</td>\n",
       "      <td>MISDEMEANOR COMPLAINT FILED</td>\n",
       "      <td>MAIN</td>\n",
       "      <td>JOHNSTON                     ST</td>\n",
       "      <td>34.066</td>\n",
       "      <td>-118.2102</td>\n",
       "      <td>POINT (-118.2102 34.066)</td>\n",
       "      <td>11/27/2020 12:00:00 AM</td>\n",
       "      <td>1957.0</td>\n",
       "      <td>METRO - JAIL DIVISION</td>\n",
       "      <td>4273.0</td>\n",
       "    </tr>\n",
       "  </tbody>\n",
       "</table>\n",
       "<p>1 rows × 25 columns</p>\n",
       "</div>"
      ],
      "text/plain": [
       "        Report ID Report Type             Arrest Date    Time  Area ID  \\\n",
       "136241    6060088     BOOKING  11/27/2020 12:00:00 AM  1720.0        4   \n",
       "\n",
       "         Area Name  Reporting District  Age Sex Code Descent Code  ...  \\\n",
       "136241  Hollenbeck                 423   33        M            H  ...   \n",
       "\n",
       "            Disposition Description Address                     Cross Street  \\\n",
       "136241  MISDEMEANOR COMPLAINT FILED    MAIN  JOHNSTON                     ST   \n",
       "\n",
       "           LAT       LON                  Location            Booking Date  \\\n",
       "136241  34.066 -118.2102  POINT (-118.2102 34.066)  11/27/2020 12:00:00 AM   \n",
       "\n",
       "       Booking Time       Booking Location  Booking Location Code  \n",
       "136241       1957.0  METRO - JAIL DIVISION                 4273.0  \n",
       "\n",
       "[1 rows x 25 columns]"
      ]
     },
     "execution_count": 45,
     "metadata": {},
     "output_type": "execute_result"
    }
   ],
   "source": [
    "a_2020.sample()"
   ]
  },
  {
   "cell_type": "code",
   "execution_count": 42,
   "id": "9b6aad6a-3dea-4d29-8a7b-2a0d8cb3fa3e",
   "metadata": {},
   "outputs": [
    {
     "data": {
      "text/html": [
       "<div>\n",
       "<style scoped>\n",
       "    .dataframe tbody tr th:only-of-type {\n",
       "        vertical-align: middle;\n",
       "    }\n",
       "\n",
       "    .dataframe tbody tr th {\n",
       "        vertical-align: top;\n",
       "    }\n",
       "\n",
       "    .dataframe thead th {\n",
       "        text-align: right;\n",
       "    }\n",
       "</style>\n",
       "<table border=\"1\" class=\"dataframe\">\n",
       "  <thead>\n",
       "    <tr style=\"text-align: right;\">\n",
       "      <th></th>\n",
       "      <th>Report ID</th>\n",
       "      <th>Report Type</th>\n",
       "      <th>Arrest Date</th>\n",
       "      <th>Time</th>\n",
       "      <th>Area ID</th>\n",
       "      <th>Area Name</th>\n",
       "      <th>Reporting District</th>\n",
       "      <th>Age</th>\n",
       "      <th>Sex Code</th>\n",
       "      <th>Descent Code</th>\n",
       "      <th>...</th>\n",
       "      <th>Disposition Description</th>\n",
       "      <th>Address</th>\n",
       "      <th>Cross Street</th>\n",
       "      <th>LAT</th>\n",
       "      <th>LON</th>\n",
       "      <th>Location</th>\n",
       "      <th>Booking Date</th>\n",
       "      <th>Booking Time</th>\n",
       "      <th>Booking Location</th>\n",
       "      <th>Booking Location Code</th>\n",
       "    </tr>\n",
       "  </thead>\n",
       "  <tbody>\n",
       "    <tr>\n",
       "      <th>552116</th>\n",
       "      <td>2812579</td>\n",
       "      <td>BOOKING</td>\n",
       "      <td>07/17/2011</td>\n",
       "      <td>1930.0</td>\n",
       "      <td>10</td>\n",
       "      <td>West Valley</td>\n",
       "      <td>1045</td>\n",
       "      <td>33</td>\n",
       "      <td>M</td>\n",
       "      <td>W</td>\n",
       "      <td>...</td>\n",
       "      <td>OTHER (REQUIRES ADDITION ACTION)</td>\n",
       "      <td>WHITE OAK                    AV</td>\n",
       "      <td>BURBANK                      BL</td>\n",
       "      <td>34.1723</td>\n",
       "      <td>-118.5185</td>\n",
       "      <td>POINT (-118.5185 34.1723)</td>\n",
       "      <td>07/17/2011 12:00:00 AM</td>\n",
       "      <td>2139.0</td>\n",
       "      <td>VALLEY - JAIL DIV</td>\n",
       "      <td>4279.0</td>\n",
       "    </tr>\n",
       "  </tbody>\n",
       "</table>\n",
       "<p>1 rows × 25 columns</p>\n",
       "</div>"
      ],
      "text/plain": [
       "        Report ID Report Type Arrest Date    Time  Area ID    Area Name  \\\n",
       "552116    2812579     BOOKING  07/17/2011  1930.0       10  West Valley   \n",
       "\n",
       "        Reporting District  Age Sex Code Descent Code  ...  \\\n",
       "552116                1045   33        M            W  ...   \n",
       "\n",
       "                 Disposition Description                          Address  \\\n",
       "552116  OTHER (REQUIRES ADDITION ACTION)  WHITE OAK                    AV   \n",
       "\n",
       "                           Cross Street      LAT       LON  \\\n",
       "552116  BURBANK                      BL  34.1723 -118.5185   \n",
       "\n",
       "                         Location            Booking Date Booking Time  \\\n",
       "552116  POINT (-118.5185 34.1723)  07/17/2011 12:00:00 AM       2139.0   \n",
       "\n",
       "         Booking Location  Booking Location Code  \n",
       "552116  VALLEY - JAIL DIV                 4279.0  \n",
       "\n",
       "[1 rows x 25 columns]"
      ]
     },
     "execution_count": 42,
     "metadata": {},
     "output_type": "execute_result"
    }
   ],
   "source": [
    "a_2010.sample()"
   ]
  },
  {
   "cell_type": "code",
   "execution_count": 47,
   "id": "f042224a-4ccb-4b89-a942-4f92dd05a2d8",
   "metadata": {},
   "outputs": [
    {
     "data": {
      "text/html": [
       "<div>\n",
       "<style scoped>\n",
       "    .dataframe tbody tr th:only-of-type {\n",
       "        vertical-align: middle;\n",
       "    }\n",
       "\n",
       "    .dataframe tbody tr th {\n",
       "        vertical-align: top;\n",
       "    }\n",
       "\n",
       "    .dataframe thead th {\n",
       "        text-align: right;\n",
       "    }\n",
       "</style>\n",
       "<table border=\"1\" class=\"dataframe\">\n",
       "  <thead>\n",
       "    <tr style=\"text-align: right;\">\n",
       "      <th></th>\n",
       "      <th>DR_NO</th>\n",
       "      <th>Date Rptd</th>\n",
       "      <th>DATE OCC</th>\n",
       "      <th>TIME OCC</th>\n",
       "      <th>AREA</th>\n",
       "      <th>AREA NAME</th>\n",
       "      <th>Rpt Dist No</th>\n",
       "      <th>Part 1-2</th>\n",
       "      <th>Crm Cd</th>\n",
       "      <th>Crm Cd Desc</th>\n",
       "      <th>...</th>\n",
       "      <th>Status</th>\n",
       "      <th>Status Desc</th>\n",
       "      <th>Crm Cd 1</th>\n",
       "      <th>Crm Cd 2</th>\n",
       "      <th>Crm Cd 3</th>\n",
       "      <th>Crm Cd 4</th>\n",
       "      <th>LOCATION</th>\n",
       "      <th>Cross Street</th>\n",
       "      <th>LAT</th>\n",
       "      <th>LON</th>\n",
       "    </tr>\n",
       "  </thead>\n",
       "  <tbody>\n",
       "    <tr>\n",
       "      <th>757805</th>\n",
       "      <td>230208692</td>\n",
       "      <td>04/08/2023 12:00:00 AM</td>\n",
       "      <td>04/08/2023 12:00:00 AM</td>\n",
       "      <td>730</td>\n",
       "      <td>2</td>\n",
       "      <td>Rampart</td>\n",
       "      <td>237</td>\n",
       "      <td>2</td>\n",
       "      <td>624</td>\n",
       "      <td>BATTERY - SIMPLE ASSAULT</td>\n",
       "      <td>...</td>\n",
       "      <td>AO</td>\n",
       "      <td>Adult Other</td>\n",
       "      <td>624.0</td>\n",
       "      <td>998.0</td>\n",
       "      <td>NaN</td>\n",
       "      <td>NaN</td>\n",
       "      <td>1300 W  2ND                          ST</td>\n",
       "      <td>NaN</td>\n",
       "      <td>34.0609</td>\n",
       "      <td>-118.2586</td>\n",
       "    </tr>\n",
       "  </tbody>\n",
       "</table>\n",
       "<p>1 rows × 28 columns</p>\n",
       "</div>"
      ],
      "text/plain": [
       "            DR_NO               Date Rptd                DATE OCC  TIME OCC  \\\n",
       "757805  230208692  04/08/2023 12:00:00 AM  04/08/2023 12:00:00 AM       730   \n",
       "\n",
       "        AREA AREA NAME  Rpt Dist No  Part 1-2  Crm Cd  \\\n",
       "757805     2   Rampart          237         2     624   \n",
       "\n",
       "                     Crm Cd Desc  ... Status  Status Desc Crm Cd 1 Crm Cd 2  \\\n",
       "757805  BATTERY - SIMPLE ASSAULT  ...     AO  Adult Other    624.0    998.0   \n",
       "\n",
       "        Crm Cd 3 Crm Cd 4                                 LOCATION  \\\n",
       "757805       NaN      NaN  1300 W  2ND                          ST   \n",
       "\n",
       "       Cross Street      LAT       LON  \n",
       "757805          NaN  34.0609 -118.2586  \n",
       "\n",
       "[1 rows x 28 columns]"
      ]
     },
     "execution_count": 47,
     "metadata": {},
     "output_type": "execute_result"
    }
   ],
   "source": [
    "c_2020.sample()"
   ]
  },
  {
   "cell_type": "code",
   "execution_count": 59,
   "id": "29dc22e1-8759-48eb-b85f-1ac6bc4a7ec8",
   "metadata": {},
   "outputs": [
    {
     "data": {
      "text/html": [
       "<div>\n",
       "<style scoped>\n",
       "    .dataframe tbody tr th:only-of-type {\n",
       "        vertical-align: middle;\n",
       "    }\n",
       "\n",
       "    .dataframe tbody tr th {\n",
       "        vertical-align: top;\n",
       "    }\n",
       "\n",
       "    .dataframe thead th {\n",
       "        text-align: right;\n",
       "    }\n",
       "</style>\n",
       "<table border=\"1\" class=\"dataframe\">\n",
       "  <thead>\n",
       "    <tr style=\"text-align: right;\">\n",
       "      <th></th>\n",
       "      <th>DR_NO</th>\n",
       "      <th>Date Rptd</th>\n",
       "      <th>DATE OCC</th>\n",
       "      <th>TIME OCC</th>\n",
       "      <th>AREA</th>\n",
       "      <th>AREA NAME</th>\n",
       "      <th>Rpt Dist No</th>\n",
       "      <th>Part 1-2</th>\n",
       "      <th>Crm Cd</th>\n",
       "      <th>Crm Cd Desc</th>\n",
       "      <th>...</th>\n",
       "      <th>Status</th>\n",
       "      <th>Status Desc</th>\n",
       "      <th>Crm Cd 1</th>\n",
       "      <th>Crm Cd 2</th>\n",
       "      <th>Crm Cd 3</th>\n",
       "      <th>Crm Cd 4</th>\n",
       "      <th>LOCATION</th>\n",
       "      <th>Cross Street</th>\n",
       "      <th>LAT</th>\n",
       "      <th>LON</th>\n",
       "    </tr>\n",
       "  </thead>\n",
       "  <tbody>\n",
       "    <tr>\n",
       "      <th>1715428</th>\n",
       "      <td>181816871</td>\n",
       "      <td>08/13/2018 12:00:00 AM</td>\n",
       "      <td>08/12/2018 12:00:00 AM</td>\n",
       "      <td>1900</td>\n",
       "      <td>18</td>\n",
       "      <td>Southeast</td>\n",
       "      <td>1821</td>\n",
       "      <td>1</td>\n",
       "      <td>510</td>\n",
       "      <td>VEHICLE - STOLEN</td>\n",
       "      <td>...</td>\n",
       "      <td>IC</td>\n",
       "      <td>Invest Cont</td>\n",
       "      <td>510.0</td>\n",
       "      <td>NaN</td>\n",
       "      <td>NaN</td>\n",
       "      <td>NaN</td>\n",
       "      <td>700 W  102ND                        ST</td>\n",
       "      <td>NaN</td>\n",
       "      <td>33.9438</td>\n",
       "      <td>-118.2869</td>\n",
       "    </tr>\n",
       "  </tbody>\n",
       "</table>\n",
       "<p>1 rows × 28 columns</p>\n",
       "</div>"
      ],
      "text/plain": [
       "             DR_NO               Date Rptd                DATE OCC  TIME OCC  \\\n",
       "1715428  181816871  08/13/2018 12:00:00 AM  08/12/2018 12:00:00 AM      1900   \n",
       "\n",
       "         AREA   AREA NAME  Rpt Dist No  Part 1-2  Crm Cd       Crm Cd Desc  \\\n",
       "1715428     18  Southeast         1821         1     510  VEHICLE - STOLEN   \n",
       "\n",
       "         ... Status  Status Desc Crm Cd 1 Crm Cd 2  Crm Cd 3 Crm Cd 4  \\\n",
       "1715428  ...     IC  Invest Cont    510.0      NaN       NaN      NaN   \n",
       "\n",
       "                                       LOCATION Cross Street      LAT  \\\n",
       "1715428  700 W  102ND                        ST          NaN  33.9438   \n",
       "\n",
       "              LON  \n",
       "1715428 -118.2869  \n",
       "\n",
       "[1 rows x 28 columns]"
      ]
     },
     "execution_count": 59,
     "metadata": {},
     "output_type": "execute_result"
    }
   ],
   "source": [
    "c_2010.sample()"
   ]
  },
  {
   "cell_type": "markdown",
   "id": "b2ab7496-b22a-46fb-8832-a58f30b16570",
   "metadata": {},
   "source": [
    "The contents of the data are comparable among the pairs. "
   ]
  },
  {
   "cell_type": "code",
   "execution_count": 79,
   "id": "a7c449c5-3a74-4fc7-850d-a1ced8a8dd8f",
   "metadata": {},
   "outputs": [],
   "source": [
    "arrests_all_raw = a_2010.merge(a_2020, how = 'outer')"
   ]
  },
  {
   "cell_type": "code",
   "execution_count": 80,
   "id": "4d636b70-fb45-41a2-bcea-1496f973b0bf",
   "metadata": {},
   "outputs": [],
   "source": [
    "arrests_all_raw.to_csv('arrests_all_raw.csv', index = False)"
   ]
  },
  {
   "cell_type": "code",
   "execution_count": 87,
   "id": "3befe545-4196-4be7-8178-189f8d0f4953",
   "metadata": {},
   "outputs": [],
   "source": [
    "c_2010.rename(columns = {'AREA ':'AREA'}, inplace = True)"
   ]
  },
  {
   "cell_type": "code",
   "execution_count": 88,
   "id": "cd004338-c234-462f-b519-a8dc2384893a",
   "metadata": {},
   "outputs": [
    {
     "data": {
      "text/plain": [
       "array([ True,  True,  True,  True,  True,  True,  True,  True,  True,\n",
       "        True,  True,  True,  True,  True,  True,  True,  True,  True,\n",
       "        True,  True,  True,  True,  True,  True,  True,  True,  True,\n",
       "        True])"
      ]
     },
     "execution_count": 88,
     "metadata": {},
     "output_type": "execute_result"
    }
   ],
   "source": [
    "c_2010.columns == c_2020.columns"
   ]
  },
  {
   "cell_type": "code",
   "execution_count": 90,
   "id": "532d7252-79cc-43dd-83bd-d374f8095f49",
   "metadata": {},
   "outputs": [],
   "source": [
    "crime_reports_all_raw = c_2010.merge(right = c_2020, how = 'outer')"
   ]
  },
  {
   "cell_type": "code",
   "execution_count": 91,
   "id": "10220dc6-4cac-4679-af12-c371cb8d74d7",
   "metadata": {},
   "outputs": [],
   "source": [
    "crime_reports_all_raw.to_csv('crime_reports_all_raw.csv', index=False)"
   ]
  },
  {
   "cell_type": "code",
   "execution_count": null,
   "id": "56065edc-5f89-435c-949f-a2400dbeed66",
   "metadata": {},
   "outputs": [],
   "source": []
  },
  {
   "cell_type": "markdown",
   "id": "6da66a61-5c82-48e5-932b-af1ea83b090b",
   "metadata": {},
   "source": [
    "# Dropping Columns"
   ]
  },
  {
   "cell_type": "markdown",
   "id": "219a7a2c-5d82-4e4b-821e-0a4ce92cb957",
   "metadata": {},
   "source": [
    "## arrests - dropping columns"
   ]
  },
  {
   "cell_type": "code",
   "execution_count": 92,
   "id": "8fc62e6a-ea1e-4b61-a454-29066844e5f5",
   "metadata": {},
   "outputs": [
    {
     "name": "stdout",
     "output_type": "stream",
     "text": [
      "a_2010\t a_2020\t arrests_all_raw\t c_2010\t c_2020\t crime_reports_all_raw\t datetime\t np\t os\t \n",
      "pd\t plt\t sns\t timedelta\t timezone\t \n"
     ]
    }
   ],
   "source": [
    "%who"
   ]
  },
  {
   "cell_type": "code",
   "execution_count": 118,
   "id": "b145d89b-7173-4674-b3e8-12660fd62779",
   "metadata": {},
   "outputs": [],
   "source": [
    "arrests_all_raw.columns = arrests_all_raw.columns.str.lower()\n",
    "arrests_all_raw.columns = arrests_all_raw.columns.str.replace(' ', '_')"
   ]
  },
  {
   "cell_type": "code",
   "execution_count": 119,
   "id": "30968356-10fa-44ec-be79-a3f13e93c23d",
   "metadata": {},
   "outputs": [],
   "source": [
    "arrests=arrests_all_raw.copy()"
   ]
  },
  {
   "cell_type": "code",
   "execution_count": 126,
   "id": "3148e994-1075-4daa-8ebf-7e49caa7f8a7",
   "metadata": {},
   "outputs": [
    {
     "data": {
      "text/plain": [
       "Index(['report_id', 'report_type', 'arrest_date', 'time', 'area_id',\n",
       "       'area_name', 'reporting_district', 'age', 'sex_code', 'descent_code',\n",
       "       'charge_group_code', 'charge_group_description', 'arrest_type_code',\n",
       "       'charge', 'charge_description', 'disposition_description', 'address',\n",
       "       'cross_street', 'lat', 'lon', 'location', 'booking_date',\n",
       "       'booking_time', 'booking_location', 'booking_location_code'],\n",
       "      dtype='object')"
      ]
     },
     "execution_count": 126,
     "metadata": {},
     "output_type": "execute_result"
    }
   ],
   "source": [
    "arrests.columns"
   ]
  },
  {
   "cell_type": "code",
   "execution_count": 125,
   "id": "3782aa9a-324d-4788-8abe-ce6564a58ee8",
   "metadata": {},
   "outputs": [
    {
     "data": {
      "text/html": [
       "<div>\n",
       "<style scoped>\n",
       "    .dataframe tbody tr th:only-of-type {\n",
       "        vertical-align: middle;\n",
       "    }\n",
       "\n",
       "    .dataframe tbody tr th {\n",
       "        vertical-align: top;\n",
       "    }\n",
       "\n",
       "    .dataframe thead th {\n",
       "        text-align: right;\n",
       "    }\n",
       "</style>\n",
       "<table border=\"1\" class=\"dataframe\">\n",
       "  <thead>\n",
       "    <tr style=\"text-align: right;\">\n",
       "      <th></th>\n",
       "      <th>report_id</th>\n",
       "      <th>report_type</th>\n",
       "      <th>arrest_date</th>\n",
       "      <th>time</th>\n",
       "      <th>area_id</th>\n",
       "      <th>area_name</th>\n",
       "      <th>reporting_district</th>\n",
       "      <th>age</th>\n",
       "      <th>sex_code</th>\n",
       "      <th>descent_code</th>\n",
       "      <th>charge_group_code</th>\n",
       "      <th>charge_group_description</th>\n",
       "      <th>arrest_type_code</th>\n",
       "    </tr>\n",
       "  </thead>\n",
       "  <tbody>\n",
       "    <tr>\n",
       "      <th>562027</th>\n",
       "      <td>4388302</td>\n",
       "      <td>BOOKING</td>\n",
       "      <td>07/17/2015</td>\n",
       "      <td>2300.0</td>\n",
       "      <td>13</td>\n",
       "      <td>Newton</td>\n",
       "      <td>1323</td>\n",
       "      <td>38</td>\n",
       "      <td>M</td>\n",
       "      <td>B</td>\n",
       "      <td>16.0</td>\n",
       "      <td>Narcotic Drug Laws</td>\n",
       "      <td>F</td>\n",
       "    </tr>\n",
       "  </tbody>\n",
       "</table>\n",
       "</div>"
      ],
      "text/plain": [
       "        report_id report_type arrest_date    time  area_id area_name  \\\n",
       "562027    4388302     BOOKING  07/17/2015  2300.0       13    Newton   \n",
       "\n",
       "        reporting_district  age sex_code descent_code  charge_group_code  \\\n",
       "562027                1323   38        M            B               16.0   \n",
       "\n",
       "       charge_group_description arrest_type_code  \n",
       "562027       Narcotic Drug Laws                F  "
      ]
     },
     "execution_count": 125,
     "metadata": {},
     "output_type": "execute_result"
    }
   ],
   "source": [
    "arrests[['report_id', 'report_type', 'arrest_date', 'time', 'area_id',\n",
    "       'area_name', 'reporting_district', 'age', 'sex_code', 'descent_code',\n",
    "       'charge_group_code', 'charge_group_description', 'arrest_type_code']].sample()"
   ]
  },
  {
   "cell_type": "code",
   "execution_count": 129,
   "id": "0fd45b16-e0b8-429c-913f-b42a0516fd7f",
   "metadata": {},
   "outputs": [
    {
     "data": {
      "text/html": [
       "<div>\n",
       "<style scoped>\n",
       "    .dataframe tbody tr th:only-of-type {\n",
       "        vertical-align: middle;\n",
       "    }\n",
       "\n",
       "    .dataframe tbody tr th {\n",
       "        vertical-align: top;\n",
       "    }\n",
       "\n",
       "    .dataframe thead th {\n",
       "        text-align: right;\n",
       "    }\n",
       "</style>\n",
       "<table border=\"1\" class=\"dataframe\">\n",
       "  <thead>\n",
       "    <tr style=\"text-align: right;\">\n",
       "      <th></th>\n",
       "      <th>charge</th>\n",
       "      <th>charge_description</th>\n",
       "      <th>disposition_description</th>\n",
       "      <th>address</th>\n",
       "      <th>cross_street</th>\n",
       "      <th>lat</th>\n",
       "      <th>lon</th>\n",
       "      <th>location</th>\n",
       "      <th>booking_date</th>\n",
       "      <th>booking_time</th>\n",
       "      <th>booking_location</th>\n",
       "      <th>booking_location_code</th>\n",
       "    </tr>\n",
       "  </thead>\n",
       "  <tbody>\n",
       "    <tr>\n",
       "      <th>324358</th>\n",
       "      <td>459PC</td>\n",
       "      <td>BURGLARY</td>\n",
       "      <td>FELONY COMPLAINT FILED</td>\n",
       "      <td>2600    VAN BUREN                    PL</td>\n",
       "      <td>NaN</td>\n",
       "      <td>34.0328</td>\n",
       "      <td>-118.297</td>\n",
       "      <td>POINT (-118.297 34.0328)</td>\n",
       "      <td>01/24/2013 12:00:00 AM</td>\n",
       "      <td>2000.0</td>\n",
       "      <td>SOUTHWEST</td>\n",
       "      <td>4203.0</td>\n",
       "    </tr>\n",
       "  </tbody>\n",
       "</table>\n",
       "</div>"
      ],
      "text/plain": [
       "       charge charge_description disposition_description  \\\n",
       "324358  459PC           BURGLARY  FELONY COMPLAINT FILED   \n",
       "\n",
       "                                        address cross_street      lat  \\\n",
       "324358  2600    VAN BUREN                    PL          NaN  34.0328   \n",
       "\n",
       "            lon                  location            booking_date  \\\n",
       "324358 -118.297  POINT (-118.297 34.0328)  01/24/2013 12:00:00 AM   \n",
       "\n",
       "        booking_time booking_location  booking_location_code  \n",
       "324358        2000.0        SOUTHWEST                 4203.0  "
      ]
     },
     "execution_count": 129,
     "metadata": {},
     "output_type": "execute_result"
    }
   ],
   "source": [
    "arrests[['charge', 'charge_description', 'disposition_description', 'address',\n",
    "       'cross_street', 'lat', 'lon', 'location', 'booking_date',\n",
    "       'booking_time', 'booking_location', 'booking_location_code']].sample()"
   ]
  },
  {
   "cell_type": "code",
   "execution_count": 130,
   "id": "c1d01048-94ca-4ea3-ae57-b596796080d9",
   "metadata": {},
   "outputs": [],
   "source": [
    "# Columns to drop\n",
    "\n",
    "arrest_columns_to_drop = ['area_id', 'reporting_district', 'charge_group_code', 'charge', 'address', 'cross_street', 'location', 'booking_date', 'booking_time', 'booking_location', 'booking_location_code']"
   ]
  },
  {
   "cell_type": "code",
   "execution_count": 133,
   "id": "28b332a2-cbc6-42a2-b89e-bbf1aef343c7",
   "metadata": {},
   "outputs": [],
   "source": [
    "arrests.drop(columns = arrest_columns_to_drop, inplace=True)"
   ]
  },
  {
   "cell_type": "code",
   "execution_count": 134,
   "id": "f8942fb9-e587-4d61-9fa1-5e3117f70a68",
   "metadata": {},
   "outputs": [
    {
     "data": {
      "text/html": [
       "<div>\n",
       "<style scoped>\n",
       "    .dataframe tbody tr th:only-of-type {\n",
       "        vertical-align: middle;\n",
       "    }\n",
       "\n",
       "    .dataframe tbody tr th {\n",
       "        vertical-align: top;\n",
       "    }\n",
       "\n",
       "    .dataframe thead th {\n",
       "        text-align: right;\n",
       "    }\n",
       "</style>\n",
       "<table border=\"1\" class=\"dataframe\">\n",
       "  <thead>\n",
       "    <tr style=\"text-align: right;\">\n",
       "      <th></th>\n",
       "      <th>report_id</th>\n",
       "      <th>report_type</th>\n",
       "      <th>arrest_date</th>\n",
       "      <th>time</th>\n",
       "      <th>area_name</th>\n",
       "      <th>age</th>\n",
       "      <th>sex_code</th>\n",
       "      <th>descent_code</th>\n",
       "      <th>charge_group_description</th>\n",
       "      <th>arrest_type_code</th>\n",
       "      <th>charge_description</th>\n",
       "      <th>disposition_description</th>\n",
       "      <th>lat</th>\n",
       "      <th>lon</th>\n",
       "    </tr>\n",
       "  </thead>\n",
       "  <tbody>\n",
       "    <tr>\n",
       "      <th>967459</th>\n",
       "      <td>6133143</td>\n",
       "      <td>BOOKING</td>\n",
       "      <td>02/25/2021 12:00:00 AM</td>\n",
       "      <td>2045.0</td>\n",
       "      <td>Olympic</td>\n",
       "      <td>23</td>\n",
       "      <td>M</td>\n",
       "      <td>H</td>\n",
       "      <td>Driving Under Influence</td>\n",
       "      <td>M</td>\n",
       "      <td>DRUNK DRIVING ALCOHOL/DRUGS</td>\n",
       "      <td>MISDEMEANOR COMPLAINT FILED</td>\n",
       "      <td>0.0</td>\n",
       "      <td>0.0</td>\n",
       "    </tr>\n",
       "  </tbody>\n",
       "</table>\n",
       "</div>"
      ],
      "text/plain": [
       "        report_id report_type             arrest_date    time area_name  age  \\\n",
       "967459    6133143     BOOKING  02/25/2021 12:00:00 AM  2045.0   Olympic   23   \n",
       "\n",
       "       sex_code descent_code charge_group_description arrest_type_code  \\\n",
       "967459        M            H  Driving Under Influence                M   \n",
       "\n",
       "                 charge_description      disposition_description  lat  lon  \n",
       "967459  DRUNK DRIVING ALCOHOL/DRUGS  MISDEMEANOR COMPLAINT FILED  0.0  0.0  "
      ]
     },
     "execution_count": 134,
     "metadata": {},
     "output_type": "execute_result"
    }
   ],
   "source": [
    "arrests.sample()"
   ]
  },
  {
   "cell_type": "markdown",
   "id": "50ad9240-ca03-49cc-a354-2e1e2fef566e",
   "metadata": {},
   "source": [
    "## crimes - dropping columns"
   ]
  },
  {
   "cell_type": "code",
   "execution_count": 135,
   "id": "216ccbbf-0127-40be-be89-7a7fe089c3a6",
   "metadata": {},
   "outputs": [
    {
     "name": "stdout",
     "output_type": "stream",
     "text": [
      "a_2010\t a_2020\t arrest_columns_to_drop\t arrests\t arrests_all_raw\t c_2010\t c_2020\t crime_reports_all_raw\t datetime\t \n",
      "np\t os\t pd\t plt\t sns\t timedelta\t timezone\t \n"
     ]
    }
   ],
   "source": [
    "%who"
   ]
  },
  {
   "cell_type": "code",
   "execution_count": 312,
   "id": "029b4f9c-edfb-425d-911b-192f8a8e4f79",
   "metadata": {},
   "outputs": [],
   "source": [
    "crimes = crime_reports_all_raw.copy()"
   ]
  },
  {
   "cell_type": "code",
   "execution_count": 313,
   "id": "3a188786-4e22-4afb-ae53-91e20de4d9de",
   "metadata": {},
   "outputs": [],
   "source": [
    "crimes.columns = crimes.columns.str.lower()\n",
    "crimes.columns = crimes.columns.str.replace(' ', '_')"
   ]
  },
  {
   "cell_type": "code",
   "execution_count": 314,
   "id": "e9c9e360-38eb-4cce-b00f-dc8ef0683c28",
   "metadata": {},
   "outputs": [
    {
     "data": {
      "text/html": [
       "<div>\n",
       "<style scoped>\n",
       "    .dataframe tbody tr th:only-of-type {\n",
       "        vertical-align: middle;\n",
       "    }\n",
       "\n",
       "    .dataframe tbody tr th {\n",
       "        vertical-align: top;\n",
       "    }\n",
       "\n",
       "    .dataframe thead th {\n",
       "        text-align: right;\n",
       "    }\n",
       "</style>\n",
       "<table border=\"1\" class=\"dataframe\">\n",
       "  <thead>\n",
       "    <tr style=\"text-align: right;\">\n",
       "      <th></th>\n",
       "      <th>dr_no</th>\n",
       "      <th>date_rptd</th>\n",
       "      <th>date_occ</th>\n",
       "      <th>time_occ</th>\n",
       "      <th>area</th>\n",
       "      <th>area_name</th>\n",
       "      <th>rpt_dist_no</th>\n",
       "      <th>part_1-2</th>\n",
       "      <th>crm_cd</th>\n",
       "      <th>crm_cd_desc</th>\n",
       "      <th>...</th>\n",
       "      <th>status</th>\n",
       "      <th>status_desc</th>\n",
       "      <th>crm_cd_1</th>\n",
       "      <th>crm_cd_2</th>\n",
       "      <th>crm_cd_3</th>\n",
       "      <th>crm_cd_4</th>\n",
       "      <th>location</th>\n",
       "      <th>cross_street</th>\n",
       "      <th>lat</th>\n",
       "      <th>lon</th>\n",
       "    </tr>\n",
       "  </thead>\n",
       "  <tbody>\n",
       "    <tr>\n",
       "      <th>771182</th>\n",
       "      <td>131921353</td>\n",
       "      <td>10/15/2013 12:00:00 AM</td>\n",
       "      <td>10/04/2013 12:00:00 AM</td>\n",
       "      <td>1200</td>\n",
       "      <td>19</td>\n",
       "      <td>Mission</td>\n",
       "      <td>1998</td>\n",
       "      <td>2</td>\n",
       "      <td>649</td>\n",
       "      <td>DOCUMENT FORGERY / STOLEN FELONY</td>\n",
       "      <td>...</td>\n",
       "      <td>IC</td>\n",
       "      <td>Invest Cont</td>\n",
       "      <td>649.0</td>\n",
       "      <td>NaN</td>\n",
       "      <td>NaN</td>\n",
       "      <td>NaN</td>\n",
       "      <td>7600    WOODMAN                      AV</td>\n",
       "      <td>NaN</td>\n",
       "      <td>34.2111</td>\n",
       "      <td>-118.4309</td>\n",
       "    </tr>\n",
       "  </tbody>\n",
       "</table>\n",
       "<p>1 rows × 28 columns</p>\n",
       "</div>"
      ],
      "text/plain": [
       "            dr_no               date_rptd                date_occ  time_occ  \\\n",
       "771182  131921353  10/15/2013 12:00:00 AM  10/04/2013 12:00:00 AM      1200   \n",
       "\n",
       "        area area_name  rpt_dist_no  part_1-2  crm_cd  \\\n",
       "771182    19   Mission         1998         2     649   \n",
       "\n",
       "                             crm_cd_desc  ... status  status_desc crm_cd_1  \\\n",
       "771182  DOCUMENT FORGERY / STOLEN FELONY  ...     IC  Invest Cont    649.0   \n",
       "\n",
       "       crm_cd_2  crm_cd_3 crm_cd_4                                 location  \\\n",
       "771182      NaN       NaN      NaN  7600    WOODMAN                      AV   \n",
       "\n",
       "       cross_street      lat       lon  \n",
       "771182          NaN  34.2111 -118.4309  \n",
       "\n",
       "[1 rows x 28 columns]"
      ]
     },
     "execution_count": 314,
     "metadata": {},
     "output_type": "execute_result"
    }
   ],
   "source": [
    "crimes.sample()"
   ]
  },
  {
   "cell_type": "code",
   "execution_count": 315,
   "id": "bfb192fd-179b-4f7b-9f51-0cfe7167a2e2",
   "metadata": {},
   "outputs": [
    {
     "data": {
      "text/plain": [
       "part_1-2\n",
       "1    0.564698\n",
       "2    0.435302\n",
       "Name: proportion, dtype: float64"
      ]
     },
     "execution_count": 315,
     "metadata": {},
     "output_type": "execute_result"
    }
   ],
   "source": [
    "# no information on this column at the website...\n",
    "crimes['part_1-2'].value_counts(normalize=True)"
   ]
  },
  {
   "cell_type": "code",
   "execution_count": 316,
   "id": "3f04e87d-a943-422d-841e-edb747febc57",
   "metadata": {},
   "outputs": [
    {
     "data": {
      "text/html": [
       "<div>\n",
       "<style scoped>\n",
       "    .dataframe tbody tr th:only-of-type {\n",
       "        vertical-align: middle;\n",
       "    }\n",
       "\n",
       "    .dataframe tbody tr th {\n",
       "        vertical-align: top;\n",
       "    }\n",
       "\n",
       "    .dataframe thead th {\n",
       "        text-align: right;\n",
       "    }\n",
       "</style>\n",
       "<table border=\"1\" class=\"dataframe\">\n",
       "  <thead>\n",
       "    <tr style=\"text-align: right;\">\n",
       "      <th></th>\n",
       "      <th>dr_no</th>\n",
       "      <th>date_rptd</th>\n",
       "      <th>date_occ</th>\n",
       "      <th>time_occ</th>\n",
       "      <th>area</th>\n",
       "      <th>area_name</th>\n",
       "      <th>rpt_dist_no</th>\n",
       "      <th>part_1-2</th>\n",
       "      <th>crm_cd</th>\n",
       "      <th>crm_cd_desc</th>\n",
       "      <th>mocodes</th>\n",
       "      <th>vict_age</th>\n",
       "      <th>vict_sex</th>\n",
       "      <th>vict_descent</th>\n",
       "      <th>premis_cd</th>\n",
       "      <th>premis_desc</th>\n",
       "    </tr>\n",
       "  </thead>\n",
       "  <tbody>\n",
       "    <tr>\n",
       "      <th>2563131</th>\n",
       "      <td>220405842</td>\n",
       "      <td>02/24/2022 12:00:00 AM</td>\n",
       "      <td>02/24/2022 12:00:00 AM</td>\n",
       "      <td>300</td>\n",
       "      <td>4</td>\n",
       "      <td>Hollenbeck</td>\n",
       "      <td>404</td>\n",
       "      <td>2</td>\n",
       "      <td>888</td>\n",
       "      <td>TRESPASSING</td>\n",
       "      <td>0913</td>\n",
       "      <td>40</td>\n",
       "      <td>M</td>\n",
       "      <td>H</td>\n",
       "      <td>501.0</td>\n",
       "      <td>SINGLE FAMILY DWELLING</td>\n",
       "    </tr>\n",
       "  </tbody>\n",
       "</table>\n",
       "</div>"
      ],
      "text/plain": [
       "             dr_no               date_rptd                date_occ  time_occ  \\\n",
       "2563131  220405842  02/24/2022 12:00:00 AM  02/24/2022 12:00:00 AM       300   \n",
       "\n",
       "         area   area_name  rpt_dist_no  part_1-2  crm_cd  crm_cd_desc mocodes  \\\n",
       "2563131     4  Hollenbeck          404         2     888  TRESPASSING    0913   \n",
       "\n",
       "         vict_age vict_sex vict_descent  premis_cd             premis_desc  \n",
       "2563131        40        M            H      501.0  SINGLE FAMILY DWELLING  "
      ]
     },
     "execution_count": 316,
     "metadata": {},
     "output_type": "execute_result"
    }
   ],
   "source": [
    "crimes[['dr_no', 'date_rptd', 'date_occ', 'time_occ', 'area', 'area_name',\n",
    "       'rpt_dist_no', 'part_1-2', 'crm_cd', 'crm_cd_desc', 'mocodes',\n",
    "       'vict_age', 'vict_sex', 'vict_descent', 'premis_cd', 'premis_desc']].sample()"
   ]
  },
  {
   "cell_type": "code",
   "execution_count": 148,
   "id": "4eeb5ac4-9980-41fe-9981-1dadcf035dbb",
   "metadata": {},
   "outputs": [
    {
     "data": {
      "text/html": [
       "<div>\n",
       "<style scoped>\n",
       "    .dataframe tbody tr th:only-of-type {\n",
       "        vertical-align: middle;\n",
       "    }\n",
       "\n",
       "    .dataframe tbody tr th {\n",
       "        vertical-align: top;\n",
       "    }\n",
       "\n",
       "    .dataframe thead th {\n",
       "        text-align: right;\n",
       "    }\n",
       "</style>\n",
       "<table border=\"1\" class=\"dataframe\">\n",
       "  <thead>\n",
       "    <tr style=\"text-align: right;\">\n",
       "      <th></th>\n",
       "      <th>weapon_used_cd</th>\n",
       "      <th>weapon_desc</th>\n",
       "      <th>status</th>\n",
       "      <th>status_desc</th>\n",
       "      <th>crm_cd_1</th>\n",
       "      <th>crm_cd_2</th>\n",
       "      <th>crm_cd_3</th>\n",
       "      <th>crm_cd_4</th>\n",
       "      <th>location</th>\n",
       "      <th>cross_street</th>\n",
       "      <th>lat</th>\n",
       "      <th>lon</th>\n",
       "    </tr>\n",
       "  </thead>\n",
       "  <tbody>\n",
       "    <tr>\n",
       "      <th>3047755</th>\n",
       "      <td>400.0</td>\n",
       "      <td>STRONG-ARM (HANDS, FIST, FEET OR BODILY FORCE)</td>\n",
       "      <td>AA</td>\n",
       "      <td>Adult Arrest</td>\n",
       "      <td>210.0</td>\n",
       "      <td>998.0</td>\n",
       "      <td>NaN</td>\n",
       "      <td>NaN</td>\n",
       "      <td>11100    BURBANK                      BL</td>\n",
       "      <td>NaN</td>\n",
       "      <td>34.1758</td>\n",
       "      <td>-118.3746</td>\n",
       "    </tr>\n",
       "  </tbody>\n",
       "</table>\n",
       "</div>"
      ],
      "text/plain": [
       "         weapon_used_cd                                     weapon_desc  \\\n",
       "3047755           400.0  STRONG-ARM (HANDS, FIST, FEET OR BODILY FORCE)   \n",
       "\n",
       "        status   status_desc  crm_cd_1  crm_cd_2  crm_cd_3  crm_cd_4  \\\n",
       "3047755     AA  Adult Arrest     210.0     998.0       NaN       NaN   \n",
       "\n",
       "                                         location cross_street      lat  \\\n",
       "3047755  11100    BURBANK                      BL          NaN  34.1758   \n",
       "\n",
       "              lon  \n",
       "3047755 -118.3746  "
      ]
     },
     "execution_count": 148,
     "metadata": {},
     "output_type": "execute_result"
    }
   ],
   "source": [
    "crimes[['weapon_used_cd', 'weapon_desc', 'status', 'status_desc', 'crm_cd_1',\n",
    "       'crm_cd_2', 'crm_cd_3', 'crm_cd_4', 'location', 'cross_street', 'lat',\n",
    "       'lon']].sample()"
   ]
  },
  {
   "cell_type": "code",
   "execution_count": 310,
   "id": "caa6dbec-4721-409b-9f1d-4068fd4b053e",
   "metadata": {},
   "outputs": [],
   "source": [
    "crimes_columns_to_drop = ['area', 'rpt_dist_no', 'part_1-2', 'crm_cd', 'mocodes', 'premis_cd', 'premis_desc', 'status', 'crm_cd_1', 'crm_cd_2', 'crm_cd_3', 'crm_cd_4','location', 'cross_street']"
   ]
  },
  {
   "cell_type": "code",
   "execution_count": 317,
   "id": "cdac83a2-ceb1-4c8c-8622-2e6884d32cb8",
   "metadata": {},
   "outputs": [],
   "source": [
    "crimes.drop(columns = crimes_columns_to_drop, inplace=True)"
   ]
  },
  {
   "cell_type": "code",
   "execution_count": 318,
   "id": "827741d5-c6dc-4115-b775-5bc5c436de70",
   "metadata": {},
   "outputs": [
    {
     "data": {
      "text/html": [
       "<div>\n",
       "<style scoped>\n",
       "    .dataframe tbody tr th:only-of-type {\n",
       "        vertical-align: middle;\n",
       "    }\n",
       "\n",
       "    .dataframe tbody tr th {\n",
       "        vertical-align: top;\n",
       "    }\n",
       "\n",
       "    .dataframe thead th {\n",
       "        text-align: right;\n",
       "    }\n",
       "</style>\n",
       "<table border=\"1\" class=\"dataframe\">\n",
       "  <thead>\n",
       "    <tr style=\"text-align: right;\">\n",
       "      <th></th>\n",
       "      <th>dr_no</th>\n",
       "      <th>date_rptd</th>\n",
       "      <th>date_occ</th>\n",
       "      <th>time_occ</th>\n",
       "      <th>area_name</th>\n",
       "      <th>crm_cd_desc</th>\n",
       "      <th>vict_age</th>\n",
       "      <th>vict_sex</th>\n",
       "      <th>vict_descent</th>\n",
       "      <th>weapon_used_cd</th>\n",
       "      <th>weapon_desc</th>\n",
       "      <th>status_desc</th>\n",
       "      <th>lat</th>\n",
       "      <th>lon</th>\n",
       "    </tr>\n",
       "  </thead>\n",
       "  <tbody>\n",
       "    <tr>\n",
       "      <th>353539</th>\n",
       "      <td>111709598</td>\n",
       "      <td>04/18/2011 12:00:00 AM</td>\n",
       "      <td>04/17/2011 12:00:00 AM</td>\n",
       "      <td>1700</td>\n",
       "      <td>Devonshire</td>\n",
       "      <td>BURGLARY FROM VEHICLE, ATTEMPTED</td>\n",
       "      <td>35</td>\n",
       "      <td>F</td>\n",
       "      <td>H</td>\n",
       "      <td>NaN</td>\n",
       "      <td>NaN</td>\n",
       "      <td>Invest Cont</td>\n",
       "      <td>34.2584</td>\n",
       "      <td>-118.4875</td>\n",
       "    </tr>\n",
       "  </tbody>\n",
       "</table>\n",
       "</div>"
      ],
      "text/plain": [
       "            dr_no               date_rptd                date_occ  time_occ  \\\n",
       "353539  111709598  04/18/2011 12:00:00 AM  04/17/2011 12:00:00 AM      1700   \n",
       "\n",
       "         area_name                       crm_cd_desc  vict_age vict_sex  \\\n",
       "353539  Devonshire  BURGLARY FROM VEHICLE, ATTEMPTED        35        F   \n",
       "\n",
       "       vict_descent  weapon_used_cd weapon_desc  status_desc      lat  \\\n",
       "353539            H             NaN         NaN  Invest Cont  34.2584   \n",
       "\n",
       "             lon  \n",
       "353539 -118.4875  "
      ]
     },
     "execution_count": 318,
     "metadata": {},
     "output_type": "execute_result"
    }
   ],
   "source": [
    "crimes.sample()"
   ]
  },
  {
   "cell_type": "markdown",
   "id": "07bfa0a1-f74b-4dc0-bb39-7332b5ef7f2c",
   "metadata": {},
   "source": [
    "# rename columns"
   ]
  },
  {
   "cell_type": "markdown",
   "id": "c78a9743-a96b-4f8c-b6ac-9d647b62c15c",
   "metadata": {},
   "source": [
    "## renaming crime columns"
   ]
  },
  {
   "cell_type": "code",
   "execution_count": 319,
   "id": "f9d2ac7e-8af4-488d-9565-6145cb441faa",
   "metadata": {},
   "outputs": [],
   "source": [
    "# column mapper for crimes table:\n",
    "\n",
    "mapper = {'dr_no' : 'record', 'date_rptd': 'report_date', 'date_occ': 'occured_date', 'time_occ': 'occured_time', \n",
    "          'area_name': 'area', 'crm_cd_desc': 'crime', 'vict_age': 'victim_age', 'vict_sex' : 'victim_sex', 'vict_descent': \n",
    "          'victim_descent', 'premis_desc' : 'premise', 'weapon_desc' : 'weapon', 'status_desc' : 'status', 'crm_cd_1': 'crime_code'}"
   ]
  },
  {
   "cell_type": "code",
   "execution_count": 320,
   "id": "ec6b084f-ddab-4f8c-ba24-0591ca3f945e",
   "metadata": {},
   "outputs": [],
   "source": [
    "crimes.rename(columns = mapper, inplace=True)"
   ]
  },
  {
   "cell_type": "code",
   "execution_count": 321,
   "id": "b81b2e76-c5a7-41eb-be00-40a1c9a2d7c1",
   "metadata": {},
   "outputs": [
    {
     "data": {
      "text/plain": [
       "Index(['record', 'report_date', 'occured_date', 'occured_time', 'area',\n",
       "       'crime', 'victim_age', 'victim_sex', 'victim_descent', 'weapon_used_cd',\n",
       "       'weapon', 'status', 'lat', 'lon'],\n",
       "      dtype='object')"
      ]
     },
     "execution_count": 321,
     "metadata": {},
     "output_type": "execute_result"
    }
   ],
   "source": [
    "crimes.columns"
   ]
  },
  {
   "cell_type": "code",
   "execution_count": 322,
   "id": "9c196838-2c31-4c25-9964-3e98a8245bf7",
   "metadata": {},
   "outputs": [
    {
     "data": {
      "text/html": [
       "<div>\n",
       "<style scoped>\n",
       "    .dataframe tbody tr th:only-of-type {\n",
       "        vertical-align: middle;\n",
       "    }\n",
       "\n",
       "    .dataframe tbody tr th {\n",
       "        vertical-align: top;\n",
       "    }\n",
       "\n",
       "    .dataframe thead th {\n",
       "        text-align: right;\n",
       "    }\n",
       "</style>\n",
       "<table border=\"1\" class=\"dataframe\">\n",
       "  <thead>\n",
       "    <tr style=\"text-align: right;\">\n",
       "      <th></th>\n",
       "      <th>record</th>\n",
       "      <th>report_date</th>\n",
       "      <th>occured_date</th>\n",
       "      <th>occured_time</th>\n",
       "      <th>area</th>\n",
       "      <th>crime</th>\n",
       "      <th>victim_age</th>\n",
       "      <th>victim_sex</th>\n",
       "      <th>victim_descent</th>\n",
       "      <th>weapon_used_cd</th>\n",
       "      <th>weapon</th>\n",
       "      <th>status</th>\n",
       "      <th>lat</th>\n",
       "      <th>lon</th>\n",
       "    </tr>\n",
       "  </thead>\n",
       "  <tbody>\n",
       "    <tr>\n",
       "      <th>364193</th>\n",
       "      <td>111811383</td>\n",
       "      <td>05/10/2011 12:00:00 AM</td>\n",
       "      <td>05/09/2011 12:00:00 AM</td>\n",
       "      <td>1325</td>\n",
       "      <td>Southeast</td>\n",
       "      <td>ROBBERY</td>\n",
       "      <td>51</td>\n",
       "      <td>F</td>\n",
       "      <td>H</td>\n",
       "      <td>207.0</td>\n",
       "      <td>OTHER KNIFE</td>\n",
       "      <td>Invest Cont</td>\n",
       "      <td>33.9433</td>\n",
       "      <td>-118.2491</td>\n",
       "    </tr>\n",
       "  </tbody>\n",
       "</table>\n",
       "</div>"
      ],
      "text/plain": [
       "           record             report_date            occured_date  \\\n",
       "364193  111811383  05/10/2011 12:00:00 AM  05/09/2011 12:00:00 AM   \n",
       "\n",
       "        occured_time       area    crime  victim_age victim_sex  \\\n",
       "364193          1325  Southeast  ROBBERY          51          F   \n",
       "\n",
       "       victim_descent  weapon_used_cd       weapon       status      lat  \\\n",
       "364193              H           207.0  OTHER KNIFE  Invest Cont  33.9433   \n",
       "\n",
       "             lon  \n",
       "364193 -118.2491  "
      ]
     },
     "execution_count": 322,
     "metadata": {},
     "output_type": "execute_result"
    }
   ],
   "source": [
    "crimes.sample()"
   ]
  },
  {
   "cell_type": "code",
   "execution_count": 323,
   "id": "5effd44f-935c-4902-a339-d141a4404249",
   "metadata": {},
   "outputs": [],
   "source": [
    "crimes.drop(columns = ['weapon_used_cd'], inplace=True)"
   ]
  },
  {
   "cell_type": "code",
   "execution_count": 324,
   "id": "b7cc34b8-d86a-437b-b473-d97c550dfd94",
   "metadata": {},
   "outputs": [],
   "source": [
    "arrests.rename(columns = {'sex_code':'sex', 'descent_code':'descent', 'charge_group_description':'charge_group', 'area_name':'area'}, inplace=True)"
   ]
  },
  {
   "cell_type": "code",
   "execution_count": 325,
   "id": "57ea0ec7-4b0e-4f27-9342-64f8db332895",
   "metadata": {},
   "outputs": [
    {
     "data": {
      "text/html": [
       "<div>\n",
       "<style scoped>\n",
       "    .dataframe tbody tr th:only-of-type {\n",
       "        vertical-align: middle;\n",
       "    }\n",
       "\n",
       "    .dataframe tbody tr th {\n",
       "        vertical-align: top;\n",
       "    }\n",
       "\n",
       "    .dataframe thead th {\n",
       "        text-align: right;\n",
       "    }\n",
       "</style>\n",
       "<table border=\"1\" class=\"dataframe\">\n",
       "  <thead>\n",
       "    <tr style=\"text-align: right;\">\n",
       "      <th></th>\n",
       "      <th>record</th>\n",
       "      <th>report_date</th>\n",
       "      <th>occured_date</th>\n",
       "      <th>occured_time</th>\n",
       "      <th>area</th>\n",
       "      <th>crime</th>\n",
       "      <th>victim_age</th>\n",
       "      <th>victim_sex</th>\n",
       "      <th>victim_descent</th>\n",
       "      <th>weapon</th>\n",
       "      <th>status</th>\n",
       "      <th>lat</th>\n",
       "      <th>lon</th>\n",
       "    </tr>\n",
       "  </thead>\n",
       "  <tbody>\n",
       "    <tr>\n",
       "      <th>1657908</th>\n",
       "      <td>180100631</td>\n",
       "      <td>03/09/2018 12:00:00 AM</td>\n",
       "      <td>03/09/2018 12:00:00 AM</td>\n",
       "      <td>210</td>\n",
       "      <td>Central</td>\n",
       "      <td>INTIMATE PARTNER - SIMPLE ASSAULT</td>\n",
       "      <td>24</td>\n",
       "      <td>F</td>\n",
       "      <td>X</td>\n",
       "      <td>STRONG-ARM (HANDS, FIST, FEET OR BODILY FORCE)</td>\n",
       "      <td>Adult Arrest</td>\n",
       "      <td>34.0409</td>\n",
       "      <td>-118.2574</td>\n",
       "    </tr>\n",
       "  </tbody>\n",
       "</table>\n",
       "</div>"
      ],
      "text/plain": [
       "            record             report_date            occured_date  \\\n",
       "1657908  180100631  03/09/2018 12:00:00 AM  03/09/2018 12:00:00 AM   \n",
       "\n",
       "         occured_time     area                              crime  victim_age  \\\n",
       "1657908           210  Central  INTIMATE PARTNER - SIMPLE ASSAULT          24   \n",
       "\n",
       "        victim_sex victim_descent  \\\n",
       "1657908          F              X   \n",
       "\n",
       "                                                 weapon        status  \\\n",
       "1657908  STRONG-ARM (HANDS, FIST, FEET OR BODILY FORCE)  Adult Arrest   \n",
       "\n",
       "             lat       lon  \n",
       "1657908  34.0409 -118.2574  "
      ]
     },
     "execution_count": 325,
     "metadata": {},
     "output_type": "execute_result"
    }
   ],
   "source": [
    "crimes.sample()"
   ]
  },
  {
   "cell_type": "code",
   "execution_count": null,
   "id": "e8b71e34-f5d6-4102-948d-769b7c546892",
   "metadata": {},
   "outputs": [],
   "source": []
  },
  {
   "cell_type": "markdown",
   "id": "6d8b35a9-986b-4136-bf65-bea761d2468d",
   "metadata": {},
   "source": [
    "# Column modifications for **arrests** :\n",
    "\n",
    "## `categorical` modifications.\n",
    "1. Update `descent` to it's corresponding ethnic name.\n",
    "2. map `charge_type_mapping` to their full title.\n"
   ]
  },
  {
   "cell_type": "code",
   "execution_count": 187,
   "id": "00df3f86-1c71-4bf7-9e14-25884a70f2d3",
   "metadata": {},
   "outputs": [
    {
     "data": {
      "text/html": [
       "<div>\n",
       "<style scoped>\n",
       "    .dataframe tbody tr th:only-of-type {\n",
       "        vertical-align: middle;\n",
       "    }\n",
       "\n",
       "    .dataframe tbody tr th {\n",
       "        vertical-align: top;\n",
       "    }\n",
       "\n",
       "    .dataframe thead th {\n",
       "        text-align: right;\n",
       "    }\n",
       "</style>\n",
       "<table border=\"1\" class=\"dataframe\">\n",
       "  <thead>\n",
       "    <tr style=\"text-align: right;\">\n",
       "      <th></th>\n",
       "      <th>report_id</th>\n",
       "      <th>report_type</th>\n",
       "      <th>arrest_date</th>\n",
       "      <th>time</th>\n",
       "      <th>area</th>\n",
       "      <th>age</th>\n",
       "      <th>sex</th>\n",
       "      <th>descent</th>\n",
       "      <th>charge_group</th>\n",
       "      <th>arrest_type_code</th>\n",
       "      <th>charge_description</th>\n",
       "      <th>disposition_description</th>\n",
       "      <th>lat</th>\n",
       "      <th>lon</th>\n",
       "    </tr>\n",
       "  </thead>\n",
       "  <tbody>\n",
       "    <tr>\n",
       "      <th>268280</th>\n",
       "      <td>3222038</td>\n",
       "      <td>BOOKING</td>\n",
       "      <td>07/07/2012</td>\n",
       "      <td>2105.0</td>\n",
       "      <td>Mission</td>\n",
       "      <td>21</td>\n",
       "      <td>M</td>\n",
       "      <td>H</td>\n",
       "      <td>Driving Under Influence</td>\n",
       "      <td>M</td>\n",
       "      <td>DRUNK DRIVING ALCOHOL/DRUGS</td>\n",
       "      <td>MISDEMEANOR COMPLAINT FILED</td>\n",
       "      <td>34.2215</td>\n",
       "      <td>-118.4612</td>\n",
       "    </tr>\n",
       "    <tr>\n",
       "      <th>895716</th>\n",
       "      <td>5783758</td>\n",
       "      <td>BOOKING</td>\n",
       "      <td>10/26/2019</td>\n",
       "      <td>1830.0</td>\n",
       "      <td>Wilshire</td>\n",
       "      <td>33</td>\n",
       "      <td>M</td>\n",
       "      <td>W</td>\n",
       "      <td>Larceny</td>\n",
       "      <td>M</td>\n",
       "      <td>SHOPLIFTING</td>\n",
       "      <td>MISDEMEANOR COMPLAINT FILED</td>\n",
       "      <td>34.0761</td>\n",
       "      <td>-118.3766</td>\n",
       "    </tr>\n",
       "    <tr>\n",
       "      <th>1134266</th>\n",
       "      <td>100114318</td>\n",
       "      <td>RFC</td>\n",
       "      <td>07/21/2010</td>\n",
       "      <td>2325.0</td>\n",
       "      <td>Central</td>\n",
       "      <td>51</td>\n",
       "      <td>M</td>\n",
       "      <td>B</td>\n",
       "      <td>NaN</td>\n",
       "      <td>M</td>\n",
       "      <td>NaN</td>\n",
       "      <td>MISDEMEANOR COMPLAINT FILED</td>\n",
       "      <td>34.0450</td>\n",
       "      <td>-118.2628</td>\n",
       "    </tr>\n",
       "  </tbody>\n",
       "</table>\n",
       "</div>"
      ],
      "text/plain": [
       "         report_id report_type arrest_date    time      area  age sex descent  \\\n",
       "268280     3222038     BOOKING  07/07/2012  2105.0   Mission   21   M       H   \n",
       "895716     5783758     BOOKING  10/26/2019  1830.0  Wilshire   33   M       W   \n",
       "1134266  100114318         RFC  07/21/2010  2325.0   Central   51   M       B   \n",
       "\n",
       "                    charge_group arrest_type_code  \\\n",
       "268280   Driving Under Influence                M   \n",
       "895716                   Larceny                M   \n",
       "1134266                      NaN                M   \n",
       "\n",
       "                  charge_description      disposition_description      lat  \\\n",
       "268280   DRUNK DRIVING ALCOHOL/DRUGS  MISDEMEANOR COMPLAINT FILED  34.2215   \n",
       "895716                   SHOPLIFTING  MISDEMEANOR COMPLAINT FILED  34.0761   \n",
       "1134266                          NaN  MISDEMEANOR COMPLAINT FILED  34.0450   \n",
       "\n",
       "              lon  \n",
       "268280  -118.4612  \n",
       "895716  -118.3766  \n",
       "1134266 -118.2628  "
      ]
     },
     "execution_count": 187,
     "metadata": {},
     "output_type": "execute_result"
    }
   ],
   "source": [
    "arrests.sample(3)"
   ]
  },
  {
   "cell_type": "code",
   "execution_count": null,
   "id": "5c8d8261-2654-4103-8d12-bd60e2bc34f5",
   "metadata": {},
   "outputs": [],
   "source": []
  },
  {
   "cell_type": "code",
   "execution_count": 206,
   "id": "1bb89ad5-2c61-4d4a-9858-11b1ba2527d1",
   "metadata": {},
   "outputs": [],
   "source": [
    "# 1. Type of Charge\n",
    "charge_type_mapper = {\n",
    "    'D': 'Dependent',\n",
    "    'F': 'Felony',\n",
    "    'I': 'Infraction',\n",
    "    'M': 'Misdemeanor',\n",
    "    'O': 'Other'\n",
    "}\n",
    "\n",
    "\n",
    "# 2. Descent Code (collapsing all Asian and South Asian nationalities to \"Asian\")\n",
    "descent_code_mapper = {\n",
    "    'A': 'Asian',              # Other Asian\n",
    "    'B': 'Black',\n",
    "    'C': 'Asian',              # Chinese\n",
    "    'D': 'Asian',              # Cambodian\n",
    "    'F': 'Asian',              # Filipino\n",
    "    'G': 'Pacific Islander',   # Guamanian\n",
    "    'H': 'Hispanic',\n",
    "    'I': 'Native American',\n",
    "    'J': 'Asian',              # Japanese\n",
    "    'K': 'Asian',              # Korean\n",
    "    'L': 'Asian',              # Laotian\n",
    "    'O': 'Other',\n",
    "    'P': 'Pacific Islander',\n",
    "    'S': 'Pacific Islander',   # Samoan\n",
    "    'U': 'Pacific Islander',   # Hawaiian\n",
    "    'V': 'Asian',              # Vietnamese\n",
    "    'W': 'White',\n",
    "    'X': 'Unknown',\n",
    "    'Z': 'Asian'               # Asian Indian\n",
    "}\n"
   ]
  },
  {
   "cell_type": "markdown",
   "id": "d398b37d-eca5-4c6a-92a3-69e45cb86991",
   "metadata": {},
   "source": [
    "## maping changes"
   ]
  },
  {
   "cell_type": "code",
   "execution_count": 203,
   "id": "892cd3e6-0a77-4db8-8055-41f47a3f56b4",
   "metadata": {},
   "outputs": [
    {
     "data": {
      "text/html": [
       "<div>\n",
       "<style scoped>\n",
       "    .dataframe tbody tr th:only-of-type {\n",
       "        vertical-align: middle;\n",
       "    }\n",
       "\n",
       "    .dataframe tbody tr th {\n",
       "        vertical-align: top;\n",
       "    }\n",
       "\n",
       "    .dataframe thead th {\n",
       "        text-align: right;\n",
       "    }\n",
       "</style>\n",
       "<table border=\"1\" class=\"dataframe\">\n",
       "  <thead>\n",
       "    <tr style=\"text-align: right;\">\n",
       "      <th></th>\n",
       "      <th>report_id</th>\n",
       "      <th>report_type</th>\n",
       "      <th>arrest_date</th>\n",
       "      <th>time</th>\n",
       "      <th>area</th>\n",
       "      <th>age</th>\n",
       "      <th>sex</th>\n",
       "      <th>descent</th>\n",
       "      <th>charge_group</th>\n",
       "      <th>arrest_type_code</th>\n",
       "      <th>charge_description</th>\n",
       "      <th>disposition_description</th>\n",
       "      <th>lat</th>\n",
       "      <th>lon</th>\n",
       "    </tr>\n",
       "  </thead>\n",
       "  <tbody>\n",
       "    <tr>\n",
       "      <th>573843</th>\n",
       "      <td>4436116</td>\n",
       "      <td>BOOKING</td>\n",
       "      <td>09/06/2015</td>\n",
       "      <td>625.0</td>\n",
       "      <td>Pacific</td>\n",
       "      <td>31</td>\n",
       "      <td>M</td>\n",
       "      <td>H</td>\n",
       "      <td>Driving Under Influence</td>\n",
       "      <td>Misdemeanor</td>\n",
       "      <td>DRUNK DRIVING ALCOHOL/DRUGS</td>\n",
       "      <td>MISDEMEANOR COMPLAINT FILED</td>\n",
       "      <td>33.9314</td>\n",
       "      <td>-118.416</td>\n",
       "    </tr>\n",
       "  </tbody>\n",
       "</table>\n",
       "</div>"
      ],
      "text/plain": [
       "        report_id report_type arrest_date   time     area  age sex descent  \\\n",
       "573843    4436116     BOOKING  09/06/2015  625.0  Pacific   31   M       H   \n",
       "\n",
       "                   charge_group arrest_type_code           charge_description  \\\n",
       "573843  Driving Under Influence      Misdemeanor  DRUNK DRIVING ALCOHOL/DRUGS   \n",
       "\n",
       "            disposition_description      lat      lon  \n",
       "573843  MISDEMEANOR COMPLAINT FILED  33.9314 -118.416  "
      ]
     },
     "execution_count": 203,
     "metadata": {},
     "output_type": "execute_result"
    }
   ],
   "source": [
    "arrests.sample()"
   ]
  },
  {
   "cell_type": "code",
   "execution_count": 199,
   "id": "5d97bcba-2932-4a50-a654-c96d9e9f7bab",
   "metadata": {},
   "outputs": [],
   "source": [
    "arrests['arrest_type_code'] = arrests['arrest_type_code'].map(charge_type_mapper)"
   ]
  },
  {
   "cell_type": "code",
   "execution_count": 208,
   "id": "b73fc4ab-6c92-452a-83c9-a508cd7b5d84",
   "metadata": {},
   "outputs": [],
   "source": [
    "arrests['descent'] = arrests['descent'].map(descent_code_mapper)"
   ]
  },
  {
   "cell_type": "markdown",
   "id": "f9a49a20-0bd6-45b2-838e-897c8261c8de",
   "metadata": {},
   "source": [
    "## `datetimes`\n",
    "4. Convert times from `float` to `datetime.time`\n",
    "5. Convert `arrest_date` to `datetime.date`  "
   ]
  },
  {
   "cell_type": "code",
   "execution_count": 225,
   "id": "0f1b9155-233a-4e23-a293-5ebbb9ad11a6",
   "metadata": {},
   "outputs": [],
   "source": [
    "arrests['arrest_date'] = pd.to_datetime(arrests['arrest_date'], errors='coerce')"
   ]
  },
  {
   "cell_type": "code",
   "execution_count": null,
   "id": "9b684c89-0546-4a41-8491-cb860f01b439",
   "metadata": {},
   "outputs": [],
   "source": []
  },
  {
   "cell_type": "markdown",
   "id": "7e4605c7-9626-4e97-b92c-9134d862032d",
   "metadata": {},
   "source": [
    "### the time column"
   ]
  },
  {
   "cell_type": "code",
   "execution_count": 229,
   "id": "3afbca01-a82a-4951-a352-ac006178817f",
   "metadata": {},
   "outputs": [],
   "source": [
    "arrests['time'] = arrests['time'].astype(str)\n",
    "arrests['time'] = arrests['time'].str.replace('.0', '')"
   ]
  },
  {
   "cell_type": "code",
   "execution_count": 230,
   "id": "46e31172-615f-4134-b247-043bf0903d50",
   "metadata": {},
   "outputs": [],
   "source": [
    "# zfill = zero fill the single hours\n",
    "arrests['time'] = arrests['time'].str.zfill(4)"
   ]
  },
  {
   "cell_type": "code",
   "execution_count": 231,
   "id": "7969e301-39a7-4f9c-a056-c0d390270ab3",
   "metadata": {},
   "outputs": [],
   "source": [
    "# insert a \":\"\n",
    "arrests['time'] = arrests['time'].apply(lambda x: x[:-2] + ':' + x[-2:])"
   ]
  },
  {
   "cell_type": "code",
   "execution_count": 232,
   "id": "8d86ff9f-6364-4993-befd-ae4421f74f69",
   "metadata": {},
   "outputs": [],
   "source": [
    "arrests['time'] = arrests['time'].fillna('00:00')"
   ]
  },
  {
   "cell_type": "code",
   "execution_count": 236,
   "id": "08373f18-64a5-4f7b-bed4-29f47517293f",
   "metadata": {},
   "outputs": [],
   "source": [
    "arrests['time'] = arrests['time'].str.replace('24:00', '23:30')"
   ]
  },
  {
   "cell_type": "code",
   "execution_count": 245,
   "id": "d46fdf9e-1969-46e3-8c9a-c2a30ee66d68",
   "metadata": {},
   "outputs": [],
   "source": [
    "# dropping null times\n",
    "\n",
    "arrests = arrests[~(arrests['time'] == \"0n:an\")].copy()"
   ]
  },
  {
   "cell_type": "code",
   "execution_count": 247,
   "id": "a36830a0-f4b4-44c0-abba-e64130702501",
   "metadata": {},
   "outputs": [],
   "source": [
    "arrests['time'] = pd.to_datetime(arrests['time'], format='%H:%M').dt.time # 24:00"
   ]
  },
  {
   "cell_type": "code",
   "execution_count": null,
   "id": "c628c047-b37e-4064-8ed0-adb5fc5015cc",
   "metadata": {},
   "outputs": [],
   "source": []
  },
  {
   "cell_type": "code",
   "execution_count": 258,
   "id": "94794bec-c0c6-45fb-8bb8-03dbd546b2bc",
   "metadata": {},
   "outputs": [
    {
     "data": {
      "text/plain": [
       "1320787"
      ]
     },
     "execution_count": 258,
     "metadata": {},
     "output_type": "execute_result"
    }
   ],
   "source": [
    "arrests.shape[0]"
   ]
  },
  {
   "cell_type": "code",
   "execution_count": 257,
   "id": "373c3149-a14c-422a-8ec4-b8dc2ea7ad5e",
   "metadata": {},
   "outputs": [],
   "source": [
    "null_date_arrests = arrests[arrests['arrest_date'].isna()]\n",
    "arrests = arrests[~(arrests['arrest_date'].isna())]"
   ]
  },
  {
   "cell_type": "code",
   "execution_count": 259,
   "id": "a2aad3eb-fa94-4182-b65f-00226d2d2e09",
   "metadata": {},
   "outputs": [],
   "source": [
    "null_date_arrests.to_csv('arrests_null_date.csv', index=False)"
   ]
  },
  {
   "cell_type": "code",
   "execution_count": 261,
   "id": "02a87e95-2323-4fe3-afeb-f3119e3c9306",
   "metadata": {},
   "outputs": [],
   "source": [
    "arrests = arrests.to_csv('arrests_dated_all.csv', index=False)"
   ]
  },
  {
   "cell_type": "markdown",
   "id": "5148513c-ba9b-43ac-b4f0-78d4579bfb0a",
   "metadata": {},
   "source": [
    "# Column clean up for crimes"
   ]
  },
  {
   "cell_type": "markdown",
   "id": "c9dd3a99-1239-4326-a067-e86e1675bfa3",
   "metadata": {},
   "source": [
    "\n"
   ]
  },
  {
   "cell_type": "code",
   "execution_count": 326,
   "id": "b8fc00fb-c8a1-46e2-a1a0-1a6c7d2c11cd",
   "metadata": {},
   "outputs": [
    {
     "name": "stderr",
     "output_type": "stream",
     "text": [
      "C:\\Users\\agawr\\AppData\\Local\\Temp\\ipykernel_24672\\1246815709.py:1: UserWarning: Could not infer format, so each element will be parsed individually, falling back to `dateutil`. To ensure parsing is consistent and as-expected, please specify a format.\n",
      "  crimes['report_date'] = pd.to_datetime(crimes['report_date'], errors='coerce')\n"
     ]
    }
   ],
   "source": [
    "crimes['report_date'] = pd.to_datetime(crimes['report_date'], errors='coerce')"
   ]
  },
  {
   "cell_type": "code",
   "execution_count": 327,
   "id": "cc97f758-4ced-43d0-acce-07d17fac2938",
   "metadata": {},
   "outputs": [
    {
     "name": "stderr",
     "output_type": "stream",
     "text": [
      "C:\\Users\\agawr\\AppData\\Local\\Temp\\ipykernel_24672\\2937434516.py:1: UserWarning: Could not infer format, so each element will be parsed individually, falling back to `dateutil`. To ensure parsing is consistent and as-expected, please specify a format.\n",
      "  crimes['occured_date'] = pd.to_datetime(crimes['occured_date'], errors = 'coerce')\n"
     ]
    }
   ],
   "source": [
    "crimes['occured_date'] = pd.to_datetime(crimes['occured_date'], errors = 'coerce')"
   ]
  },
  {
   "cell_type": "code",
   "execution_count": 328,
   "id": "de2e9aea-d3b9-4da2-a90d-e08e2d4bb770",
   "metadata": {},
   "outputs": [
    {
     "data": {
      "text/html": [
       "<div>\n",
       "<style scoped>\n",
       "    .dataframe tbody tr th:only-of-type {\n",
       "        vertical-align: middle;\n",
       "    }\n",
       "\n",
       "    .dataframe tbody tr th {\n",
       "        vertical-align: top;\n",
       "    }\n",
       "\n",
       "    .dataframe thead th {\n",
       "        text-align: right;\n",
       "    }\n",
       "</style>\n",
       "<table border=\"1\" class=\"dataframe\">\n",
       "  <thead>\n",
       "    <tr style=\"text-align: right;\">\n",
       "      <th></th>\n",
       "      <th>record</th>\n",
       "      <th>report_date</th>\n",
       "      <th>occured_date</th>\n",
       "      <th>occured_time</th>\n",
       "      <th>area</th>\n",
       "      <th>crime</th>\n",
       "      <th>victim_age</th>\n",
       "      <th>victim_sex</th>\n",
       "      <th>victim_descent</th>\n",
       "      <th>weapon</th>\n",
       "      <th>status</th>\n",
       "      <th>lat</th>\n",
       "      <th>lon</th>\n",
       "    </tr>\n",
       "  </thead>\n",
       "  <tbody>\n",
       "    <tr>\n",
       "      <th>1105719</th>\n",
       "      <td>151225085</td>\n",
       "      <td>2015-11-04</td>\n",
       "      <td>2015-11-04</td>\n",
       "      <td>2135</td>\n",
       "      <td>77th Street</td>\n",
       "      <td>ASSAULT WITH DEADLY WEAPON, AGGRAVATED ASSAULT</td>\n",
       "      <td>19</td>\n",
       "      <td>F</td>\n",
       "      <td>H</td>\n",
       "      <td>UNKNOWN WEAPON/OTHER WEAPON</td>\n",
       "      <td>Invest Cont</td>\n",
       "      <td>33.9747</td>\n",
       "      <td>-118.2809</td>\n",
       "    </tr>\n",
       "  </tbody>\n",
       "</table>\n",
       "</div>"
      ],
      "text/plain": [
       "            record report_date occured_date  occured_time         area  \\\n",
       "1105719  151225085  2015-11-04   2015-11-04          2135  77th Street   \n",
       "\n",
       "                                                  crime  victim_age  \\\n",
       "1105719  ASSAULT WITH DEADLY WEAPON, AGGRAVATED ASSAULT          19   \n",
       "\n",
       "        victim_sex victim_descent                       weapon       status  \\\n",
       "1105719          F              H  UNKNOWN WEAPON/OTHER WEAPON  Invest Cont   \n",
       "\n",
       "             lat       lon  \n",
       "1105719  33.9747 -118.2809  "
      ]
     },
     "execution_count": 328,
     "metadata": {},
     "output_type": "execute_result"
    }
   ],
   "source": [
    "crimes.sample()"
   ]
  },
  {
   "cell_type": "markdown",
   "id": "f4184b4f-8d40-49b3-87b4-dbde0c4925f1",
   "metadata": {},
   "source": [
    "### modifying `crimes['occured_time']`\n",
    "\n",
    "- cast astype(str)\n",
    "- zfill 4\n",
    "- insert : in the middle.\n",
    "- cast to datetime.time."
   ]
  },
  {
   "cell_type": "code",
   "execution_count": 329,
   "id": "23779d14-96c7-4f3c-afcd-11a6c76e03ba",
   "metadata": {},
   "outputs": [],
   "source": [
    "crimes['occured_time'] = crimes['occured_time'].astype(str)\n",
    "crimes['occured_time'] = crimes['occured_time'].str.zfill(4)"
   ]
  },
  {
   "cell_type": "code",
   "execution_count": 330,
   "id": "4c066ae8-4c88-4fe3-ae1c-303155529e26",
   "metadata": {},
   "outputs": [],
   "source": [
    "# [-2:] are the last two\n",
    "# [:-2] are the first two\n",
    "\n",
    "crimes['occured_time'] = crimes['occured_time'].apply(lambda x: x[:-2] + ':' + x[-2:])"
   ]
  },
  {
   "cell_type": "code",
   "execution_count": 331,
   "id": "535822e5-3d5b-46cc-93f0-726060b44a59",
   "metadata": {},
   "outputs": [],
   "source": [
    "crimes['occured_time'] = pd.to_datetime(crimes['occured_time'], format=\"%H:%M\").dt.time"
   ]
  },
  {
   "cell_type": "code",
   "execution_count": 332,
   "id": "a3f1842c-87b1-4f69-9bec-09812907bfde",
   "metadata": {},
   "outputs": [
    {
     "data": {
      "text/html": [
       "<div>\n",
       "<style scoped>\n",
       "    .dataframe tbody tr th:only-of-type {\n",
       "        vertical-align: middle;\n",
       "    }\n",
       "\n",
       "    .dataframe tbody tr th {\n",
       "        vertical-align: top;\n",
       "    }\n",
       "\n",
       "    .dataframe thead th {\n",
       "        text-align: right;\n",
       "    }\n",
       "</style>\n",
       "<table border=\"1\" class=\"dataframe\">\n",
       "  <thead>\n",
       "    <tr style=\"text-align: right;\">\n",
       "      <th></th>\n",
       "      <th>record</th>\n",
       "      <th>report_date</th>\n",
       "      <th>occured_date</th>\n",
       "      <th>occured_time</th>\n",
       "      <th>area</th>\n",
       "      <th>crime</th>\n",
       "      <th>victim_age</th>\n",
       "      <th>victim_sex</th>\n",
       "      <th>victim_descent</th>\n",
       "      <th>weapon</th>\n",
       "      <th>status</th>\n",
       "      <th>lat</th>\n",
       "      <th>lon</th>\n",
       "    </tr>\n",
       "  </thead>\n",
       "  <tbody>\n",
       "    <tr>\n",
       "      <th>1137767</th>\n",
       "      <td>151518937</td>\n",
       "      <td>2015-09-27</td>\n",
       "      <td>2015-09-27</td>\n",
       "      <td>12:55:00</td>\n",
       "      <td>N Hollywood</td>\n",
       "      <td>SHOPLIFTING - PETTY THEFT ($950 &amp; UNDER)</td>\n",
       "      <td>0</td>\n",
       "      <td>M</td>\n",
       "      <td>O</td>\n",
       "      <td>NaN</td>\n",
       "      <td>Invest Cont</td>\n",
       "      <td>34.1524</td>\n",
       "      <td>-118.3671</td>\n",
       "    </tr>\n",
       "    <tr>\n",
       "      <th>396267</th>\n",
       "      <td>112117797</td>\n",
       "      <td>2011-10-13</td>\n",
       "      <td>2011-09-13</td>\n",
       "      <td>15:30:00</td>\n",
       "      <td>Topanga</td>\n",
       "      <td>BURGLARY FROM VEHICLE</td>\n",
       "      <td>23</td>\n",
       "      <td>F</td>\n",
       "      <td>W</td>\n",
       "      <td>NaN</td>\n",
       "      <td>Invest Cont</td>\n",
       "      <td>34.2010</td>\n",
       "      <td>-118.6169</td>\n",
       "    </tr>\n",
       "    <tr>\n",
       "      <th>1747613</th>\n",
       "      <td>180907275</td>\n",
       "      <td>2018-03-03</td>\n",
       "      <td>2018-03-01</td>\n",
       "      <td>13:00:00</td>\n",
       "      <td>Van Nuys</td>\n",
       "      <td>BURGLARY</td>\n",
       "      <td>36</td>\n",
       "      <td>F</td>\n",
       "      <td>W</td>\n",
       "      <td>OTHER CUTTING INSTRUMENT</td>\n",
       "      <td>Adult Arrest</td>\n",
       "      <td>34.1552</td>\n",
       "      <td>-118.4476</td>\n",
       "    </tr>\n",
       "    <tr>\n",
       "      <th>1766629</th>\n",
       "      <td>181104974</td>\n",
       "      <td>2018-01-24</td>\n",
       "      <td>2018-01-03</td>\n",
       "      <td>13:00:00</td>\n",
       "      <td>Northeast</td>\n",
       "      <td>EMBEZZLEMENT, GRAND THEFT ($950.01 &amp; OVER)</td>\n",
       "      <td>0</td>\n",
       "      <td>X</td>\n",
       "      <td>X</td>\n",
       "      <td>NaN</td>\n",
       "      <td>Adult Other</td>\n",
       "      <td>34.0912</td>\n",
       "      <td>-118.2111</td>\n",
       "    </tr>\n",
       "  </tbody>\n",
       "</table>\n",
       "</div>"
      ],
      "text/plain": [
       "            record report_date occured_date occured_time         area  \\\n",
       "1137767  151518937  2015-09-27   2015-09-27     12:55:00  N Hollywood   \n",
       "396267   112117797  2011-10-13   2011-09-13     15:30:00      Topanga   \n",
       "1747613  180907275  2018-03-03   2018-03-01     13:00:00     Van Nuys   \n",
       "1766629  181104974  2018-01-24   2018-01-03     13:00:00    Northeast   \n",
       "\n",
       "                                              crime  victim_age victim_sex  \\\n",
       "1137767    SHOPLIFTING - PETTY THEFT ($950 & UNDER)           0          M   \n",
       "396267                        BURGLARY FROM VEHICLE          23          F   \n",
       "1747613                                    BURGLARY          36          F   \n",
       "1766629  EMBEZZLEMENT, GRAND THEFT ($950.01 & OVER)           0          X   \n",
       "\n",
       "        victim_descent                    weapon        status      lat  \\\n",
       "1137767              O                       NaN   Invest Cont  34.1524   \n",
       "396267               W                       NaN   Invest Cont  34.2010   \n",
       "1747613              W  OTHER CUTTING INSTRUMENT  Adult Arrest  34.1552   \n",
       "1766629              X                       NaN   Adult Other  34.0912   \n",
       "\n",
       "              lon  \n",
       "1137767 -118.3671  \n",
       "396267  -118.6169  \n",
       "1747613 -118.4476  \n",
       "1766629 -118.2111  "
      ]
     },
     "execution_count": 332,
     "metadata": {},
     "output_type": "execute_result"
    }
   ],
   "source": [
    "crimes.sample(4)"
   ]
  },
  {
   "cell_type": "markdown",
   "id": "29e05a3f-7181-415c-80bc-d547e08f0a1d",
   "metadata": {},
   "source": [
    "## Mapping victim data"
   ]
  },
  {
   "cell_type": "code",
   "execution_count": 333,
   "id": "a212ed9a-0e97-42aa-8ae6-984c7852844e",
   "metadata": {},
   "outputs": [
    {
     "data": {
      "text/plain": [
       "victim_descent\n",
       "H    1015972\n",
       "W     703192\n",
       "B     468393\n",
       "O     278237\n",
       "X     175154\n",
       "A      71951\n",
       "K      14508\n",
       "F       6765\n",
       "C       4950\n",
       "I       1872\n",
       "J       1779\n",
       "V       1241\n",
       "Z        619\n",
       "P        608\n",
       "U        392\n",
       "G        153\n",
       "D        104\n",
       "L         86\n",
       "S         85\n",
       "-          5\n",
       "Name: count, dtype: int64"
      ]
     },
     "execution_count": 333,
     "metadata": {},
     "output_type": "execute_result"
    }
   ],
   "source": [
    "crimes['victim_descent'].value_counts()"
   ]
  },
  {
   "cell_type": "code",
   "execution_count": 334,
   "id": "1233f218-cdf9-4ba4-af08-0e6fa1495b0a",
   "metadata": {},
   "outputs": [
    {
     "name": "stdout",
     "output_type": "stream",
     "text": [
      "a_2010\t a_2020\t arrest_columns_to_drop\t arrests\t arrests_all_raw\t c_2010\t c_2020\t charge_type_mapper\t crime_columns_to_drop\t \n",
      "crime_reports_all_raw\t crimes\t crimes_columns_to_drop\t datetime\t descent_code_mapper\t gender_mapper\t mapper\t np\t null_date_arrests\t \n",
      "os\t pd\t plt\t sns\t timedelta\t timezone\t \n"
     ]
    }
   ],
   "source": [
    "%who"
   ]
  },
  {
   "cell_type": "code",
   "execution_count": 335,
   "id": "770f2724-af31-464e-bf66-f9e3cc6da8c2",
   "metadata": {},
   "outputs": [
    {
     "data": {
      "text/plain": [
       "victim_descent\n",
       "Hispanic            1015972\n",
       "White                703192\n",
       "Black                468393\n",
       "NaN                  324508\n",
       "Other                278237\n",
       "Unknown              175154\n",
       "Asian                102003\n",
       "Native American        1872\n",
       "Pacific Islander       1238\n",
       "Name: count, dtype: int64"
      ]
     },
     "execution_count": 335,
     "metadata": {},
     "output_type": "execute_result"
    }
   ],
   "source": [
    "crimes['victim_descent'].map(descent_code_mapper).value_counts(dropna=False)"
   ]
  },
  {
   "cell_type": "code",
   "execution_count": 336,
   "id": "3ab3eae8-a662-4a1a-af7b-c9e986fd0548",
   "metadata": {},
   "outputs": [],
   "source": [
    "crimes['victim_descent'] = crimes['victim_descent'].map(descent_code_mapper)"
   ]
  },
  {
   "cell_type": "code",
   "execution_count": null,
   "id": "0e879764-dff4-4b56-9965-dbfb32c6047a",
   "metadata": {},
   "outputs": [],
   "source": []
  },
  {
   "cell_type": "code",
   "execution_count": 339,
   "id": "c1d51af7-c42c-43d9-8642-305c03762783",
   "metadata": {},
   "outputs": [
    {
     "name": "stderr",
     "output_type": "stream",
     "text": [
      "C:\\Users\\agawr\\AppData\\Local\\Temp\\ipykernel_24672\\29473635.py:1: SettingWithCopyWarning: \n",
      "A value is trying to be set on a copy of a slice from a DataFrame.\n",
      "Try using .loc[row_indexer,col_indexer] = value instead\n",
      "\n",
      "See the caveats in the documentation: https://pandas.pydata.org/pandas-docs/stable/user_guide/indexing.html#returning-a-view-versus-a-copy\n",
      "  crimes[crimes['victim_descent'].isna()]['victim_descent'] = 'Unknown'\n"
     ]
    }
   ],
   "source": [
    "crimes[crimes['victim_descent'].isna()]['victim_descent'] = 'Unknown'"
   ]
  },
  {
   "cell_type": "code",
   "execution_count": 347,
   "id": "e816ba6d-25b4-4fc2-868a-273cd6ed455e",
   "metadata": {},
   "outputs": [],
   "source": [
    "crimes.dropna(inplace=True)"
   ]
  },
  {
   "cell_type": "code",
   "execution_count": 350,
   "id": "8ffcf87f-6928-4f64-9474-546b7a0ed77b",
   "metadata": {},
   "outputs": [],
   "source": [
    "crimes.to_csv('crimes_all_cleaned.csv', index=False)"
   ]
  }
 ],
 "metadata": {
  "kernelspec": {
   "display_name": "Python 3 (ipykernel)",
   "language": "python",
   "name": "python3"
  },
  "language_info": {
   "codemirror_mode": {
    "name": "ipython",
    "version": 3
   },
   "file_extension": ".py",
   "mimetype": "text/x-python",
   "name": "python",
   "nbconvert_exporter": "python",
   "pygments_lexer": "ipython3",
   "version": "3.11.9"
  }
 },
 "nbformat": 4,
 "nbformat_minor": 5
}
